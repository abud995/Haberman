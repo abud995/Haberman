{
 "cells": [
  {
   "cell_type": "code",
   "execution_count": 7,
   "metadata": {},
   "outputs": [],
   "source": [
    "import csv\n",
    "import numpy as np\n",
    "import pandas as pd\n",
    "import torch\n",
    "from torch import nn\n",
    "import torch.nn.functional as F\n",
    "from torch import optim\n",
    "from torchvision import transforms\n",
    "from torchvision import datasets\n",
    "from torch.utils.data import Dataset\n",
    "from torch.utils.data import DataLoader\n",
    "import sklearn\n",
    "from sklearn import datasets"
   ]
  },
  {
   "cell_type": "code",
   "execution_count": 13,
   "metadata": {},
   "outputs": [],
   "source": [
    "# Definisanje klase za opis skupa podataka.\n",
    "class HabermanDataset(Dataset):\n",
    "    def __init__(self, path=None):\n",
    "        super().__init__()\n",
    "        # Skladiste skupa podataka.\n",
    "        self.data = []\n",
    "        \n",
    "        # Mapiranje imena klasa na numericke vrednosti.\n",
    "        self.label_index = {\n",
    "            \"Survived-more\": 0,\n",
    "            \"Survived-less\": 1\n",
    "        }\n",
    "        \n",
    "        # Ucitavanje podataka sa zadate putanje.\n",
    "        self._load(path)\n",
    "        \n",
    "    def _load(self, path):\n",
    "        with open(path) as fp:\n",
    "            csv_data = csv.reader(fp)\n",
    "            for row in csv_data:\n",
    "                if len(row) > 0:\n",
    "                    # Parsiranje i skladistenje reda csv datoteke.\n",
    "                       self.data.append((np.array(np.array(list(map(lambda x: float(x), row[:-1]))), dtype=np.float32), self.label_index[row[-1]]))\n",
    "        \n",
    "    def __getitem__(self, index):\n",
    "        # Ova magicna metoda mora biti implementirana.\n",
    "        # Predstavlja implementaciju preklapanja operatora\n",
    "        # indeksiranja. Kao argument prima indeks, a kao povratnu\n",
    "        # vrednost vraca podatak na zadatom indeksu.\n",
    "        return self.data[index]\n",
    "    \n",
    "    def __len__(self):\n",
    "        # Ova magicna metoda mora biti implementirana.\n",
    "        # Povratna vrednost ove metode predstavlja ukupan broj\n",
    "        # pojava u skupu podataka.\n",
    "        return len(self.data)"
   ]
  },
  {
   "cell_type": "code",
   "execution_count": 14,
   "metadata": {},
   "outputs": [],
   "source": [
    "ds = HabermanDataset(\"haberman.data\")\n",
    "test_loader = DataLoader(ds, shuffle=True, batch_size=30)\n",
    "train_loader = DataLoader(ds, shuffle=True, batch_size=30)"
   ]
  },
  {
   "cell_type": "code",
   "execution_count": 15,
   "metadata": {},
   "outputs": [],
   "source": [
    "class Net(nn.Module):\n",
    "    def __init__(self):\n",
    "        super(Net, self).__init__()\n",
    "        self.fc1 = nn.Linear(3, 50)\n",
    "        self.fc2 = nn.Linear(50, 20)\n",
    "        self.fc3 = nn.Linear(20, 10)\n",
    "        self.fc4 = nn.Linear(10, 3)\n",
    "\n",
    "    def forward(self, x):\n",
    "        x = self.fc1(x)\n",
    "        x = self.fc2(x)\n",
    "        x = self.fc3(x)\n",
    "        x = self.fc4(x)\n",
    "        return x"
   ]
  },
  {
   "cell_type": "code",
   "execution_count": 16,
   "metadata": {},
   "outputs": [
    {
     "name": "stdout",
     "output_type": "stream",
     "text": [
      "1. epoch loss: 1.967\n",
      "2. epoch loss: 1.700\n",
      "3. epoch loss: 1.748\n",
      "4. epoch loss: 1.549\n",
      "5. epoch loss: 1.235\n",
      "Obucavanje zavrseno.\n"
     ]
    }
   ],
   "source": [
    "net = Net()\n",
    "\n",
    "criterion = nn.CrossEntropyLoss()\n",
    "optimizer = optim.SGD(net.parameters(), lr=0.001, momentum=0.9)\n",
    "\n",
    "for epoch in range(5):\n",
    "    running_loss = 0.0\n",
    "    for i, data in enumerate(train_loader):\n",
    "        inputs, labels = data\n",
    "        \n",
    "        optimizer.zero_grad()\n",
    "        outputs = net(inputs)\n",
    "        loss = criterion(outputs, labels)\n",
    "        loss.backward()\n",
    "        optimizer.step()\n",
    "        running_loss += loss.item()\n",
    "        if i % 30 == 10:\n",
    "            print('%d. epoch loss: %.3f' % (epoch + 1, running_loss / 5))\n",
    "            running_loss = 0.0\n",
    "\n",
    "print(\"Obucavanje zavrseno.\")"
   ]
  },
  {
   "cell_type": "code",
   "execution_count": 17,
   "metadata": {},
   "outputs": [
    {
     "name": "stdout",
     "output_type": "stream",
     "text": [
      "Tacnost: 75.490%\n"
     ]
    }
   ],
   "source": [
    "total = 0\n",
    "correct = 0\n",
    "\n",
    "with torch.no_grad():\n",
    "    for data in test_loader:\n",
    "        features, labels = data\n",
    "        outputs = net(features)\n",
    "        _, predicted = torch.max(outputs.data, 1)\n",
    "        total += labels.size(0)\n",
    "        correct += (predicted == labels).sum().item()\n",
    "\n",
    "print(\"Tacnost: {:.3f}%\".format(100 * correct / total))"
   ]
  },
  {
   "cell_type": "code",
   "execution_count": 61,
   "metadata": {},
   "outputs": [
    {
     "data": {
      "text/plain": [
       "306"
      ]
     },
     "execution_count": 61,
     "metadata": {},
     "output_type": "execute_result"
    }
   ],
   "source": [
    "ds.__len__()"
   ]
  },
  {
   "cell_type": "code",
   "execution_count": 47,
   "metadata": {},
   "outputs": [
    {
     "data": {
      "text/plain": [
       "(array([30., 64.,  3.], dtype=float32), 0)"
      ]
     },
     "execution_count": 47,
     "metadata": {},
     "output_type": "execute_result"
    }
   ],
   "source": [
    "#prvi podatak\n",
    "ds.__getitem__(0)"
   ]
  },
  {
   "cell_type": "code",
   "execution_count": 48,
   "metadata": {},
   "outputs": [
    {
     "data": {
      "text/plain": [
       "(array([83., 58.,  4.], dtype=float32), 1)"
      ]
     },
     "execution_count": 48,
     "metadata": {},
     "output_type": "execute_result"
    }
   ],
   "source": [
    "#poslednji\n",
    "ds.__getitem__(305)"
   ]
  },
  {
   "cell_type": "code",
   "execution_count": null,
   "metadata": {},
   "outputs": [],
   "source": []
  }
 ],
 "metadata": {
  "kernelspec": {
   "display_name": "Python 3",
   "language": "python",
   "name": "python3"
  },
  "language_info": {
   "codemirror_mode": {
    "name": "ipython",
    "version": 3
   },
   "file_extension": ".py",
   "mimetype": "text/x-python",
   "name": "python",
   "nbconvert_exporter": "python",
   "pygments_lexer": "ipython3",
   "version": "3.7.3"
  }
 },
 "nbformat": 4,
 "nbformat_minor": 2
}
