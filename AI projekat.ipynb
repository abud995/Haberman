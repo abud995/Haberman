{
 "cells": [
  {
   "cell_type": "code",
   "execution_count": 26,
   "metadata": {},
   "outputs": [],
   "source": [
    "import csv\n",
    "import numpy as np\n",
    "import pandas as pd\n",
    "import torch\n",
    "from torch import nn\n",
    "import torch.nn.functional as F\n",
    "from torch import optim\n",
    "from torchvision import transforms\n",
    "from torchvision import datasets\n",
    "from torch.utils.data import Dataset\n",
    "from torch.utils.data import DataLoader\n",
    "\n",
    "\n",
    "\n",
    "# podaci u datasetu:\n",
    "# starost pacijenta\n",
    "# godina operacije\n",
    "# aksilarni limfni čvorovi\n",
    "# klase"
   ]
  },
  {
   "cell_type": "code",
   "execution_count": 27,
   "metadata": {},
   "outputs": [],
   "source": [
    "# Definisanje klase za opis skupa podataka.\n",
    "class HabermanDataset(Dataset):\n",
    "    def __init__(self, path=None):\n",
    "        super().__init__()\n",
    "        # Skladiste skupa podataka.\n",
    "        self.data = []\n",
    "        \n",
    "        # Mapiranje imena klasa na numericke vrednosti.\n",
    "        self.label_index = {\n",
    "            \"Survived-more\": 0,\n",
    "            \"Survived-less\": 1\n",
    "        }\n",
    "        \n",
    "        # Ucitavanje podataka sa zadate putanje.\n",
    "        self._load(path)\n",
    "        \n",
    "    def _load(self, path):\n",
    "        with open(path) as fp:\n",
    "            csv_data = csv.reader(fp)\n",
    "            for row in csv_data:\n",
    "                if len(row) > 0:\n",
    "                    # Parsiranje i skladistenje reda csv datoteke.\n",
    "                       self.data.append((np.array(np.array(list(map(lambda x: float(x), row[:-1]))), dtype=np.float32), self.label_index[row[-1]]))\n",
    "        \n",
    "    def __getitem__(self, index):\n",
    "        # Ova magicna metoda mora biti implementirana.\n",
    "        # Predstavlja implementaciju preklapanja operatora\n",
    "        # indeksiranja. Kao argument prima indeks, a kao povratnu\n",
    "        # vrednost vraca podatak na zadatom indeksu.\n",
    "        return self.data[index]\n",
    "    \n",
    "    def __len__(self):\n",
    "        # Ova magicna metoda mora biti implementirana.\n",
    "        # Povratna vrednost ove metode predstavlja ukupan broj\n",
    "        # pojava u skupu podataka.\n",
    "        return len(self.data)"
   ]
  },
  {
   "cell_type": "code",
   "execution_count": 28,
   "metadata": {},
   "outputs": [],
   "source": [
    "ds = HabermanDataset(\"haberman.data\")\n",
    "test_loader = DataLoader(ds, shuffle=True, batch_size=60)\n",
    "train_loader = DataLoader(ds, shuffle=True, batch_size=60)"
   ]
  },
  {
   "cell_type": "code",
   "execution_count": 29,
   "metadata": {},
   "outputs": [],
   "source": [
    "class Net(nn.Module):\n",
    "    def __init__(self):\n",
    "        \n",
    "        #Definisanje neuronske mreze\n",
    "        # 3 potpuno povezana sloja\n",
    "        # broj ulaznih kanala jednak broju izlaznih prethodnog sloja\n",
    "        # broj izlaznih kanala poslednjeg sloja je broj klasa\n",
    "        \n",
    "        super(Net, self).__init__()\n",
    "        self.fc1 = nn.Linear(3, 50)\n",
    "        self.fc2 = nn.Linear(50, 20)\n",
    "        self.fc3 = nn.Linear(20, 2)\n",
    "\n",
    "    def forward(self, x):\n",
    "        \n",
    "        #forward pass\n",
    "        # prosledjivanje ulaza i racunanje izlaza za svaki sloj od prvog do poslednjeg\n",
    "        \n",
    "        x = self.fc1(x)\n",
    "        x = self.fc2(x)\n",
    "        x = self.fc3(x)\n",
    "        return x"
   ]
  },
  {
   "cell_type": "code",
   "execution_count": 43,
   "metadata": {},
   "outputs": [
    {
     "name": "stdout",
     "output_type": "stream",
     "text": [
      "1. epoch loss: 3.501\n",
      "2. epoch loss: 3.134\n",
      "3. epoch loss: 1.591\n",
      "4. epoch loss: 0.918\n",
      "5. epoch loss: 0.649\n",
      "Obucavanje zavrseno.\n"
     ]
    }
   ],
   "source": [
    "net = Net()\n",
    "\n",
    "# instanciranje kriterijuma optimizacije\n",
    "\n",
    "criterion = nn.CrossEntropyLoss()\n",
    "\n",
    "\n",
    "# Instanciranje optimizacionog algoritma. U ovom slucaju\n",
    "# stochastic gradient descent. Optimizacioni algoritam\n",
    "# optimizuje parametre neuronske mreze, odnosno tezine\n",
    "# na ulazima neurona, learning rate i moment podeseni\n",
    "# na 0.001 i 0.9 kako bi se osigurala stabilna konvergencija.\n",
    "\n",
    "#Stochastic gradient descent is a method to find the optimal parameter configuration for a machine learning algorithm.\n",
    "#It iteratively makes small adjustments to a machine learning network configuration to decrease the error of the network.\n",
    "\n",
    "optimizer = optim.SGD(net.parameters(), lr=0.001, momentum=0.9)\n",
    "\n",
    "\n",
    "#Proces obucavanja\n",
    "\n",
    "#One Epoch is when an entire dataset is passed forward and backward through the neural network only once\n",
    "\n",
    "for epoch in range(5):\n",
    "    running_loss = 0.0 # Pocetna greska u toku epohe\n",
    "    \n",
    "    # U svakoj epohi vrsi se obucavanje nad citavim obucavajucim\n",
    "    # skupom podataka. Pomocu data loader-a iz skupa podataka\n",
    "    # se izdvajaju obucavajuci podskupovi predefinisane velicine.\n",
    "    # Takodje prilikom izdvjanja podskupova vrsi se i primena\n",
    "    # prethodno definisanih transformacija.\n",
    "     \n",
    "\n",
    "    for i, data in enumerate(train_loader):\n",
    "        \n",
    "        # Za svaku instancu obucavajuceg skupa se\n",
    "        # dobavljaju vektor osobina i labela.\n",
    "        \n",
    "        inputs, labels = data\n",
    "        \n",
    "        # Resetuju se gradijenti akumulirani prilikom\n",
    "        # prethodnih izvrsenja optimizacionog algoritma.        \n",
    "        optimizer.zero_grad()\n",
    "        \n",
    "        # Vrsi se izracunavanje izlaza neuronske mreze.\n",
    "        outputs = net(inputs)\n",
    "        \n",
    "        # Na osnovu kriterijuma optimizacije vrsi se racunanje greske.\n",
    "        loss = criterion(outputs, labels)\n",
    "        \n",
    "        # Greska se propagira nazad kroz mrezu.\n",
    "        #backward pass refers to process of counting changes in weights (de facto learning), \n",
    "        #using gradient descent algorithm (or similar)\n",
    "        loss.backward()\n",
    "        \n",
    "        # Vrsi se optimizacija parametara.\n",
    "        optimizer.step()\n",
    "        \n",
    "        # Uvecava se ukupna greska tokom jedne epohe.\n",
    "        running_loss += loss.item()\n",
    "        \n",
    "        #Ispis greske\n",
    "        if i % 5 == 4:\n",
    "            print('%d. epoch loss: %.3f' % (epoch + 1, running_loss / 5))\n",
    "            running_loss = 0.0\n",
    "\n",
    "print(\"Obucavanje zavrseno.\")"
   ]
  },
  {
   "cell_type": "code",
   "execution_count": 44,
   "metadata": {},
   "outputs": [
    {
     "name": "stdout",
     "output_type": "stream",
     "text": [
      "Tacnost: 72.876%\n"
     ]
    }
   ],
   "source": [
    "total = 0 #Ukupan broj primera\n",
    "correct = 0 # Broj tacno klasifikovanih primera\n",
    "\n",
    "\n",
    "# Tokom upotrebe neuronske mreze, nakon sto je obucena,\n",
    "# nema potrebe racunati gradijente.\n",
    "with torch.no_grad():\n",
    "    for data in test_loader:\n",
    "         # Dobavljanje podskupa iz obucavajuceg skupa podataka.\n",
    "        features, labels = data\n",
    "        \n",
    "        # Racunanje izlaza neuronske mreze.\n",
    "        outputs = net(features)\n",
    "        \n",
    "        # Dobavljanje indeksa izlaza sa najjacom pobudom.\n",
    "        _, predicted = torch.max(outputs.data, 1)\n",
    "        \n",
    "        # Uvecavanje broja ukupno obradjenih primera.\n",
    "        total += labels.size(0)\n",
    "        \n",
    "        # Ukoliko je indeks labele jednak indeksu izlaza neuronska\n",
    "        # mreza je izvrsila tacnu predikciju.\n",
    "        correct += (predicted == labels).sum().item()\n",
    "\n",
    "print(\"Tacnost: {:.3f}%\".format(100 * correct / total))"
   ]
  },
  {
   "cell_type": "code",
   "execution_count": 7,
   "metadata": {},
   "outputs": [
    {
     "data": {
      "text/plain": [
       "306"
      ]
     },
     "execution_count": 7,
     "metadata": {},
     "output_type": "execute_result"
    }
   ],
   "source": [
    "#duzina dataseta\n",
    "ds.__len__()"
   ]
  },
  {
   "cell_type": "code",
   "execution_count": 8,
   "metadata": {},
   "outputs": [
    {
     "data": {
      "text/plain": [
       "(array([30., 64.,  3.], dtype=float32), 0)"
      ]
     },
     "execution_count": 8,
     "metadata": {},
     "output_type": "execute_result"
    }
   ],
   "source": [
    "#prvi podatak\n",
    "ds.__getitem__(0)"
   ]
  },
  {
   "cell_type": "code",
   "execution_count": 67,
   "metadata": {},
   "outputs": [
    {
     "data": {
      "text/plain": [
       "(array([83., 58.,  4.], dtype=float32), 1)"
      ]
     },
     "execution_count": 67,
     "metadata": {},
     "output_type": "execute_result"
    }
   ],
   "source": [
    "#poslednji\n",
    "ds.__getitem__(305)"
   ]
  },
  {
   "cell_type": "code",
   "execution_count": null,
   "metadata": {},
   "outputs": [],
   "source": []
  }
 ],
 "metadata": {
  "kernelspec": {
   "display_name": "Python 3",
   "language": "python",
   "name": "python3"
  },
  "language_info": {
   "codemirror_mode": {
    "name": "ipython",
    "version": 3
   },
   "file_extension": ".py",
   "mimetype": "text/x-python",
   "name": "python",
   "nbconvert_exporter": "python",
   "pygments_lexer": "ipython3",
   "version": "3.7.3"
  }
 },
 "nbformat": 4,
 "nbformat_minor": 2
}
